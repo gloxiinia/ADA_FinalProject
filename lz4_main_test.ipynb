{
 "cells": [
  {
   "cell_type": "markdown",
   "metadata": {},
   "source": [
    "Testing the corpus for the LZ4 algorithm"
   ]
  },
  {
   "cell_type": "code",
   "execution_count": 1,
   "metadata": {},
   "outputs": [],
   "source": [
    "#importing the libraries used\n",
    "\n",
    "import lz4.frame\n",
    "import time #for runtime comparison\n",
    "import os"
   ]
  },
  {
   "cell_type": "markdown",
   "metadata": {},
   "source": [
    "1. IMAGE FILES"
   ]
  },
  {
   "cell_type": "markdown",
   "metadata": {},
   "source": [
    "Compression"
   ]
  },
  {
   "cell_type": "code",
   "execution_count": 65,
   "metadata": {},
   "outputs": [],
   "source": [
    "#getting the start time\n",
    "com_st = time.time()\n",
    "\n",
    "with open('test_files/kirby.jpg', 'rb') as infile:\n",
    "    with open('lz4_test_files/kirby.lz4', 'wb') as outfile:\n",
    "        outfile.write(lz4.frame.compress(infile.read()))\n",
    "\n",
    "\n",
    "#getting the end time and elapsed time\n",
    "com_et = time.time()\n",
    "com_elapsed_time = com_et - com_st"
   ]
  },
  {
   "cell_type": "markdown",
   "metadata": {},
   "source": [
    "Decompression"
   ]
  },
  {
   "cell_type": "code",
   "execution_count": 66,
   "metadata": {},
   "outputs": [],
   "source": [
    "#getting the start time\n",
    "decom_st = time.time()\n",
    "\n",
    "with open('lz4_test_files/kirby.lz4', 'rb') as infile:\n",
    "    with open('lz4_test_files/kirbyAfterlz4.jpg', 'wb') as outfile:\n",
    "        outfile.write(lz4.frame.decompress(infile.read()))\n",
    "\n",
    "#getting the end time and elapsed time\n",
    "decom_et = time.time()\n",
    "decom_elapsed_time = decom_et - decom_st"
   ]
  },
  {
   "cell_type": "markdown",
   "metadata": {},
   "source": [
    "Comparisons:"
   ]
  },
  {
   "cell_type": "markdown",
   "metadata": {},
   "source": [
    "a. Runtime comparison "
   ]
  },
  {
   "cell_type": "code",
   "execution_count": 67,
   "metadata": {},
   "outputs": [
    {
     "name": "stdout",
     "output_type": "stream",
     "text": [
      "Compression execution time: 0.0020017624 seconds\n",
      "Decompression execution time: 0.0080015659 seconds\n"
     ]
    }
   ],
   "source": [
    "print('Compression execution time:', \"{:.10f}\".format(com_elapsed_time), 'seconds')\n",
    "print('Decompression execution time:', \"{:.10f}\".format(decom_elapsed_time), 'seconds')"
   ]
  },
  {
   "cell_type": "markdown",
   "metadata": {},
   "source": [
    "b. File size comparison:"
   ]
  },
  {
   "cell_type": "code",
   "execution_count": 68,
   "metadata": {},
   "outputs": [
    {
     "name": "stdout",
     "output_type": "stream",
     "text": [
      "Original file:\n",
      "File Size in Bytes is 322769\n",
      "File Size in MegaBytes is 0.3078165054321289\n",
      "\n",
      "Compressed file:\n",
      "file size in Bytes is 322808\n",
      "file size in MegaBytes is 0.30785369873046875\n",
      "\n",
      "Decompressed file:\n",
      "file size in Bytes is 322769\n",
      "file size in MegaBytes is 0.3078165054321289\n",
      "\n"
     ]
    }
   ],
   "source": [
    "#original\n",
    "file_stats = os.stat(\"test_files/kirby.jpg\")\n",
    "print(\"Original file:\")\n",
    "print(f'File Size in Bytes is {file_stats.st_size}')\n",
    "print(f'File Size in MegaBytes is {file_stats.st_size / (1024 * 1024)}\\n')\n",
    "\n",
    "#compressed\n",
    "file_stats = os.stat(\"lz4_test_files/kirby.lz4\")\n",
    "print(\"Compressed file:\")\n",
    "print(f'file size in Bytes is {file_stats.st_size}')\n",
    "print(f'file size in MegaBytes is {file_stats.st_size / (1024 * 1024)}\\n')\n",
    "\n",
    "#decompressed\n",
    "file_stats = os.stat(\"lz4_test_files/kirbyAfterlz4.jpg\")\n",
    "print(\"Decompressed file:\")\n",
    "print(f'file size in Bytes is {file_stats.st_size}')\n",
    "print(f'file size in MegaBytes is {file_stats.st_size / (1024 * 1024)}\\n')"
   ]
  },
  {
   "cell_type": "markdown",
   "metadata": {},
   "source": [
    "2. TEXT FILES"
   ]
  },
  {
   "cell_type": "markdown",
   "metadata": {},
   "source": [
    "Compression"
   ]
  },
  {
   "cell_type": "code",
   "execution_count": 69,
   "metadata": {},
   "outputs": [],
   "source": [
    "#getting the start time\n",
    "com_st = time.time()\n",
    "\n",
    "with open('test_files/theraven.txt', 'rb') as infile:\n",
    "    with open('lz4_test_files/theraven.lz4', 'wb') as outfile:\n",
    "        outfile.write(lz4.frame.compress(infile.read()))\n",
    "\n",
    "#getting the end time and elapsed time\n",
    "com_et = time.time()\n",
    "com_elapsed_time = com_et - com_st"
   ]
  },
  {
   "cell_type": "markdown",
   "metadata": {},
   "source": [
    "Decompression"
   ]
  },
  {
   "cell_type": "code",
   "execution_count": 70,
   "metadata": {},
   "outputs": [],
   "source": [
    "#getting the start time\n",
    "decom_st = time.time()\n",
    "\n",
    "with open('lz4_test_files/theraven.lz4', 'rb') as infile:\n",
    "    with open('lz4_test_files/theravenAfterlz4.txt', 'wb') as outfile:\n",
    "        outfile.write(lz4.frame.decompress(infile.read()))\n",
    "\n",
    "#getting the end time and elapsed time\n",
    "decom_et = time.time()\n",
    "decom_elapsed_time = decom_et - decom_st"
   ]
  },
  {
   "cell_type": "markdown",
   "metadata": {},
   "source": [
    "Comparisons:"
   ]
  },
  {
   "cell_type": "markdown",
   "metadata": {},
   "source": [
    "a. Runtime comparison"
   ]
  },
  {
   "cell_type": "code",
   "execution_count": 71,
   "metadata": {},
   "outputs": [
    {
     "name": "stdout",
     "output_type": "stream",
     "text": [
      "Compression execution time: 0.0009701252 seconds\n",
      "Decompression execution time: 0.0070023537 seconds\n"
     ]
    }
   ],
   "source": [
    "print('Compression execution time:', \"{:.10f}\".format(com_elapsed_time), 'seconds')\n",
    "print('Decompression execution time:', \"{:.10f}\".format(decom_elapsed_time), 'seconds')"
   ]
  },
  {
   "cell_type": "markdown",
   "metadata": {},
   "source": [
    "b. File size comparison:"
   ]
  },
  {
   "cell_type": "code",
   "execution_count": 72,
   "metadata": {},
   "outputs": [
    {
     "name": "stdout",
     "output_type": "stream",
     "text": [
      "Original file:\n",
      "File Size in Bytes is 66394\n",
      "File Size in MegaBytes is 0.06331825256347656\n",
      "\n",
      "Compressed file:\n",
      "file size in Bytes is 39702\n",
      "file size in MegaBytes is 0.03786277770996094\n",
      "\n",
      "Decompressed file:\n",
      "file size in Bytes is 66394\n",
      "file size in MegaBytes is 0.06331825256347656\n",
      "\n"
     ]
    }
   ],
   "source": [
    "#file size comparison\n",
    "#original\n",
    "file_stats = os.stat(\"test_files/theraven.txt\")\n",
    "print(\"Original file:\")\n",
    "print(f'File Size in Bytes is {file_stats.st_size}')\n",
    "print(f'File Size in MegaBytes is {file_stats.st_size / (1024 * 1024)}\\n')\n",
    "\n",
    "#compressed\n",
    "file_stats = os.stat(\"lz4_test_files/theraven.lz4\")\n",
    "print(\"Compressed file:\")\n",
    "print(f'file size in Bytes is {file_stats.st_size}')\n",
    "print(f'file size in MegaBytes is {file_stats.st_size / (1024 * 1024)}\\n')\n",
    "\n",
    "#decompressed\n",
    "file_stats = os.stat(\"lz4_test_files/theravenAfterlz4.txt\")\n",
    "print(\"Decompressed file:\")\n",
    "print(f'file size in Bytes is {file_stats.st_size}')\n",
    "print(f'file size in MegaBytes is {file_stats.st_size / (1024 * 1024)}\\n')"
   ]
  },
  {
   "cell_type": "markdown",
   "metadata": {},
   "source": [
    "3. CSV FILES"
   ]
  },
  {
   "cell_type": "markdown",
   "metadata": {},
   "source": [
    "Compression"
   ]
  },
  {
   "cell_type": "code",
   "execution_count": 73,
   "metadata": {},
   "outputs": [],
   "source": [
    "#getting the start time\n",
    "com_st = time.time()\n",
    "\n",
    "with open('test_files/imdb_movies.csv', 'rb') as infile:\n",
    "    with open('lz4_test_files/imdb_movies.lz4', 'wb') as outfile:\n",
    "        outfile.write(lz4.frame.compress(infile.read()))\n",
    "\n",
    "#getting the end time and elapsed time\n",
    "com_et = time.time()\n",
    "com_elapsed_time = com_et - com_st"
   ]
  },
  {
   "cell_type": "markdown",
   "metadata": {},
   "source": [
    "Decompression"
   ]
  },
  {
   "cell_type": "code",
   "execution_count": 74,
   "metadata": {},
   "outputs": [],
   "source": [
    "#getting the start time\n",
    "decom_st = time.time()\n",
    "\n",
    "with open('lz4_test_files/imdb_movies.lz4', 'rb') as infile:\n",
    "    with open('lz4_test_files/imdb_moviesAfterlz4.csv', 'wb') as outfile:\n",
    "        outfile.write(lz4.frame.decompress(infile.read()))\n",
    "\n",
    "#getting the end time and elapsed time\n",
    "decom_et = time.time()\n",
    "decom_elapsed_time = decom_et - decom_st"
   ]
  },
  {
   "cell_type": "markdown",
   "metadata": {},
   "source": [
    "Comparisons:"
   ]
  },
  {
   "cell_type": "markdown",
   "metadata": {},
   "source": [
    "a. Runtime comparison"
   ]
  },
  {
   "cell_type": "code",
   "execution_count": 75,
   "metadata": {},
   "outputs": [
    {
     "name": "stdout",
     "output_type": "stream",
     "text": [
      "Compression execution time: 0.0079994202 seconds\n",
      "Decompression execution time: 0.0080037117 seconds\n"
     ]
    }
   ],
   "source": [
    "print('Compression execution time:', \"{:.10f}\".format(com_elapsed_time), 'seconds')\n",
    "print('Decompression execution time:', \"{:.10f}\".format(decom_elapsed_time), 'seconds')"
   ]
  },
  {
   "cell_type": "markdown",
   "metadata": {},
   "source": [
    "b. File size comparison"
   ]
  },
  {
   "cell_type": "code",
   "execution_count": 76,
   "metadata": {},
   "outputs": [
    {
     "name": "stdout",
     "output_type": "stream",
     "text": [
      "Original file:\n",
      "File Size in Bytes is 2173906\n",
      "File Size in MegaBytes is 2.0731983184814453\n",
      "\n",
      "Compressed file:\n",
      "file size in Bytes is 1412515\n",
      "file size in MegaBytes is 1.3470792770385742\n",
      "\n",
      "Decompressed file:\n",
      "file size in Bytes is 2173906\n",
      "file size in MegaBytes is 2.0731983184814453\n",
      "\n"
     ]
    }
   ],
   "source": [
    "#original\n",
    "file_stats = os.stat(\"test_files/imdb_movies.csv\")\n",
    "print(\"Original file:\")\n",
    "print(f'File Size in Bytes is {file_stats.st_size}')\n",
    "print(f'File Size in MegaBytes is {file_stats.st_size / (1024 * 1024)}\\n')\n",
    "\n",
    "#compressed\n",
    "file_stats = os.stat(\"lz4_test_files/imdb_movies.lz4\")\n",
    "print(\"Compressed file:\")\n",
    "print(f'file size in Bytes is {file_stats.st_size}')\n",
    "print(f'file size in MegaBytes is {file_stats.st_size / (1024 * 1024)}\\n')\n",
    "\n",
    "#decompressed\n",
    "file_stats = os.stat(\"lz4_test_files/imdb_moviesAfterlz4.csv\")\n",
    "print(\"Decompressed file:\")\n",
    "print(f'file size in Bytes is {file_stats.st_size}')\n",
    "print(f'file size in MegaBytes is {file_stats.st_size / (1024 * 1024)}\\n')"
   ]
  },
  {
   "cell_type": "markdown",
   "metadata": {},
   "source": [
    "4. PDF FILES"
   ]
  },
  {
   "cell_type": "markdown",
   "metadata": {},
   "source": [
    "Compression"
   ]
  },
  {
   "cell_type": "code",
   "execution_count": 77,
   "metadata": {},
   "outputs": [],
   "source": [
    "#getting the start time\n",
    "com_st = time.time()\n",
    "\n",
    "with open('test_files/covidindo.pdf', 'rb') as infile:\n",
    "    with open('lz4_test_files/covidindo.lz4', 'wb') as outfile:\n",
    "        outfile.write(lz4.frame.compress(infile.read()))\n",
    "\n",
    "#getting the end time and elapsed time\n",
    "com_et = time.time()\n",
    "com_elapsed_time = com_et - com_st"
   ]
  },
  {
   "cell_type": "markdown",
   "metadata": {},
   "source": [
    "Decompression"
   ]
  },
  {
   "cell_type": "code",
   "execution_count": 78,
   "metadata": {},
   "outputs": [],
   "source": [
    "#getting the start time\n",
    "decom_st = time.time()\n",
    "\n",
    "with open('lz4_test_files/covidindo.lz4', 'rb') as infile:\n",
    "    with open('lz4_test_files/covidindoAfterlz4.pdf', \"wb\") as outfile:\n",
    "        outfile.write(lz4.frame.decompress(infile.read()))\n",
    "\n",
    "#getting the end time and elapsed time\n",
    "decom_et = time.time()\n",
    "decom_elapsed_time = decom_et - decom_st"
   ]
  },
  {
   "cell_type": "markdown",
   "metadata": {},
   "source": [
    "Comparisons:"
   ]
  },
  {
   "cell_type": "markdown",
   "metadata": {},
   "source": [
    "a. Runtime comparison"
   ]
  },
  {
   "cell_type": "code",
   "execution_count": 79,
   "metadata": {},
   "outputs": [
    {
     "name": "stdout",
     "output_type": "stream",
     "text": [
      "Compression execution time: 0.0040075779 seconds\n",
      "Decompression execution time: 0.0109925270 seconds\n"
     ]
    }
   ],
   "source": [
    "print('Compression execution time:', \"{:.10f}\".format(com_elapsed_time), 'seconds')\n",
    "print('Decompression execution time:', \"{:.10f}\".format(decom_elapsed_time), 'seconds')"
   ]
  },
  {
   "cell_type": "markdown",
   "metadata": {},
   "source": [
    "b. File size comparison"
   ]
  },
  {
   "cell_type": "code",
   "execution_count": 80,
   "metadata": {},
   "outputs": [
    {
     "name": "stdout",
     "output_type": "stream",
     "text": [
      "Original file:\n",
      "File Size in Bytes is 2488029\n",
      "File Size in MegaBytes is 2.372769355773926\n",
      "\n",
      "Compressed file:\n",
      "file size in Bytes is 2311118\n",
      "file size in MegaBytes is 2.2040538787841797\n",
      "\n",
      "Decompressed file:\n",
      "file size in Bytes is 2488029\n",
      "file size in MegaBytes is 2.372769355773926\n",
      "\n"
     ]
    }
   ],
   "source": [
    "#original\n",
    "file_stats = os.stat(\"test_files/covidindo.pdf\")\n",
    "print(\"Original file:\")\n",
    "print(f'File Size in Bytes is {file_stats.st_size}')\n",
    "print(f'File Size in MegaBytes is {file_stats.st_size / (1024 * 1024)}\\n')\n",
    "\n",
    "#compressed\n",
    "file_stats = os.stat(\"lz4_test_files/covidindo.lz4\")\n",
    "print(\"Compressed file:\")\n",
    "print(f'file size in Bytes is {file_stats.st_size}')\n",
    "print(f'file size in MegaBytes is {file_stats.st_size / (1024 * 1024)}\\n')\n",
    "\n",
    "#decompressed\n",
    "file_stats = os.stat(\"lz4_test_files/covidindoAfterlz4.pdf\")\n",
    "print(\"Decompressed file:\")\n",
    "print(f'file size in Bytes is {file_stats.st_size}')\n",
    "print(f'file size in MegaBytes is {file_stats.st_size / (1024 * 1024)}\\n')"
   ]
  },
  {
   "cell_type": "markdown",
   "metadata": {},
   "source": [
    "5. JSON FILES"
   ]
  },
  {
   "cell_type": "markdown",
   "metadata": {},
   "source": [
    "Compression"
   ]
  },
  {
   "cell_type": "code",
   "execution_count": 81,
   "metadata": {},
   "outputs": [],
   "source": [
    "#getting the start time\n",
    "com_st = time.time()\n",
    "\n",
    "with open('test_files/example_2.json', 'rb') as infile:\n",
    "    with open('lz4_test_files/example_2.lz4', 'wb') as outfile:\n",
    "        outfile.write(lz4.frame.compress(infile.read()))\n",
    "\n",
    "#getting the end time and elapsed time\n",
    "com_et = time.time()\n",
    "com_elapsed_time = com_et - com_st"
   ]
  },
  {
   "cell_type": "markdown",
   "metadata": {},
   "source": [
    "Decompression"
   ]
  },
  {
   "cell_type": "code",
   "execution_count": 82,
   "metadata": {},
   "outputs": [],
   "source": [
    "#getting the start time\n",
    "decom_st = time.time()\n",
    "\n",
    "with open('lz4_test_files/example_2.lz4', 'rb') as infile:\n",
    "    with open('lz4_test_files/example_2Afterlz4.json', 'wb') as outfile:\n",
    "        outfile.write(lz4.frame.decompress(infile.read()))\n",
    "\n",
    "#getting the end time and elapsed time\n",
    "decom_et = time.time()\n",
    "decom_elapsed_time = decom_et - decom_st"
   ]
  },
  {
   "cell_type": "markdown",
   "metadata": {},
   "source": [
    "Comparisons:"
   ]
  },
  {
   "cell_type": "markdown",
   "metadata": {},
   "source": [
    "a. Runtime comparison"
   ]
  },
  {
   "cell_type": "code",
   "execution_count": 83,
   "metadata": {},
   "outputs": [
    {
     "name": "stdout",
     "output_type": "stream",
     "text": [
      "Compression execution time: 0.0010008812 seconds\n",
      "Decompression execution time: 0.0019969940 seconds\n"
     ]
    }
   ],
   "source": [
    "print('Compression execution time:', \"{:.10f}\".format(com_elapsed_time), 'seconds')\n",
    "print('Decompression execution time:', \"{:.10f}\".format(decom_elapsed_time), 'seconds')"
   ]
  },
  {
   "cell_type": "markdown",
   "metadata": {},
   "source": [
    "b. File size comparison"
   ]
  },
  {
   "cell_type": "code",
   "execution_count": 84,
   "metadata": {},
   "outputs": [
    {
     "name": "stdout",
     "output_type": "stream",
     "text": [
      "Original file:\n",
      "File Size in Bytes is 947\n",
      "File Size in MegaBytes is 0.0009031295776367188\n",
      "\n",
      "Compressed file:\n",
      "file size in Bytes is 373\n",
      "file size in MegaBytes is 0.00035572052001953125\n",
      "\n",
      "Decompressed file:\n",
      "file size in Bytes is 947\n",
      "file size in MegaBytes is 0.0009031295776367188\n",
      "\n"
     ]
    }
   ],
   "source": [
    "#original\n",
    "file_stats = os.stat(\"test_files/example_2.json\")\n",
    "print(\"Original file:\")\n",
    "print(f'File Size in Bytes is {file_stats.st_size}')\n",
    "print(f'File Size in MegaBytes is {file_stats.st_size / (1024 * 1024)}\\n')\n",
    "\n",
    "#compressed\n",
    "file_stats = os.stat(\"lz4_test_files/example_2.lz4\")\n",
    "print(\"Compressed file:\")\n",
    "print(f'file size in Bytes is {file_stats.st_size}')\n",
    "print(f'file size in MegaBytes is {file_stats.st_size / (1024 * 1024)}\\n')\n",
    "\n",
    "#decompressed\n",
    "file_stats = os.stat(\"lz4_test_files/example_2Afterlz4.json\")\n",
    "print(\"Decompressed file:\")\n",
    "print(f'file size in Bytes is {file_stats.st_size}')\n",
    "print(f'file size in MegaBytes is {file_stats.st_size / (1024 * 1024)}\\n')"
   ]
  },
  {
   "attachments": {},
   "cell_type": "markdown",
   "metadata": {},
   "source": [
    "6. IMAGE (BIG)"
   ]
  },
  {
   "cell_type": "markdown",
   "metadata": {},
   "source": [
    "Compression"
   ]
  },
  {
   "cell_type": "code",
   "execution_count": 27,
   "metadata": {},
   "outputs": [],
   "source": [
    "#getting the start time\n",
    "com_st = time.time()\n",
    "\n",
    "with open('test_files/spiral_hubble.png', 'rb') as infile:\n",
    "    with open('lz4_test_files/spiral_hubble.lz4', 'wb') as outfile:\n",
    "        outfile.write(lz4.frame.compress(infile.read()))\n",
    "\n",
    "#getting the end time and elapsed time\n",
    "com_et = time.time()\n",
    "com_elapsed_time = com_et - com_st"
   ]
  },
  {
   "attachments": {},
   "cell_type": "markdown",
   "metadata": {},
   "source": [
    "Decompression"
   ]
  },
  {
   "cell_type": "code",
   "execution_count": 28,
   "metadata": {},
   "outputs": [],
   "source": [
    "#getting the start time\n",
    "decom_st = time.time()\n",
    "\n",
    "with open('lz4_test_files/spiral_hubble.lz4', 'rb') as infile:\n",
    "    with open('lz4_test_files/spiral_hubbleAfterlz4.png', 'wb') as outfile:\n",
    "        outfile.write(lz4.frame.decompress(infile.read()))\n",
    "\n",
    "#getting the end time and elapsed time\n",
    "decom_et = time.time()\n",
    "decom_elapsed_time = decom_et - decom_st"
   ]
  },
  {
   "attachments": {},
   "cell_type": "markdown",
   "metadata": {},
   "source": [
    "Comparisons"
   ]
  },
  {
   "attachments": {},
   "cell_type": "markdown",
   "metadata": {},
   "source": [
    "a. Runtime comparison"
   ]
  },
  {
   "cell_type": "code",
   "execution_count": 29,
   "metadata": {},
   "outputs": [
    {
     "name": "stdout",
     "output_type": "stream",
     "text": [
      "Compression execution time: 0.2586383820 seconds\n",
      "Decompression execution time: 0.2162897587 seconds\n"
     ]
    }
   ],
   "source": [
    "print('Compression execution time:', \"{:.10f}\".format(com_elapsed_time), 'seconds')\n",
    "print('Decompression execution time:', \"{:.10f}\".format(decom_elapsed_time), 'seconds')"
   ]
  },
  {
   "attachments": {},
   "cell_type": "markdown",
   "metadata": {},
   "source": [
    "b. File size comparison"
   ]
  },
  {
   "cell_type": "code",
   "execution_count": 23,
   "metadata": {},
   "outputs": [
    {
     "name": "stdout",
     "output_type": "stream",
     "text": [
      "Original file:\n",
      "File Size in Bytes is 137275657\n",
      "File Size in MegaBytes is 130.91626834869385\n",
      "\n",
      "Compressed file:\n",
      "file size in Bytes is 137278322\n",
      "file size in MegaBytes is 130.91880989074707\n",
      "\n",
      "Decompressed file:\n",
      "file size in Bytes is 137275657\n",
      "file size in MegaBytes is 130.91626834869385\n",
      "\n"
     ]
    }
   ],
   "source": [
    "#original\n",
    "file_stats = os.stat(\"test_files/spiral_hubble.png\")\n",
    "print(\"Original file:\")\n",
    "print(f'File Size in Bytes is {file_stats.st_size}')\n",
    "print(f'File Size in MegaBytes is {file_stats.st_size / (1024 * 1024)}\\n')\n",
    "\n",
    "#compressed\n",
    "file_stats = os.stat(\"lz4_test_files/spiral_hubble.lz4\")\n",
    "print(\"Compressed file:\")\n",
    "print(f'file size in Bytes is {file_stats.st_size}')\n",
    "print(f'file size in MegaBytes is {file_stats.st_size / (1024 * 1024)}\\n')\n",
    "\n",
    "#decompressed\n",
    "file_stats = os.stat(\"lz4_test_files/spiral_hubbleAfterlz4.png\")\n",
    "print(\"Decompressed file:\")\n",
    "print(f'file size in Bytes is {file_stats.st_size}')\n",
    "print(f'file size in MegaBytes is {file_stats.st_size / (1024 * 1024)}\\n')"
   ]
  },
  {
   "cell_type": "markdown",
   "metadata": {},
   "source": []
  }
 ],
 "metadata": {
  "kernelspec": {
   "display_name": "Python 3.10.2 64-bit",
   "language": "python",
   "name": "python3"
  },
  "language_info": {
   "codemirror_mode": {
    "name": "ipython",
    "version": 3
   },
   "file_extension": ".py",
   "mimetype": "text/x-python",
   "name": "python",
   "nbconvert_exporter": "python",
   "pygments_lexer": "ipython3",
   "version": "3.10.2 (tags/v3.10.2:a58ebcc, Jan 17 2022, 14:12:15) [MSC v.1929 64 bit (AMD64)]"
  },
  "orig_nbformat": 4,
  "vscode": {
   "interpreter": {
    "hash": "b0ea0398bfc6d7f45abc68f44a548315348cf9ab79812a4dc9172071276c2fec"
   }
  }
 },
 "nbformat": 4,
 "nbformat_minor": 2
}
