{
 "cells": [
  {
   "cell_type": "markdown",
   "metadata": {},
   "source": [
    "Testing the corpus for the Zlib algorithm"
   ]
  },
  {
   "cell_type": "code",
   "execution_count": 43,
   "metadata": {},
   "outputs": [],
   "source": [
    "#importing the libraries used\n",
    "\n",
    "import zlib\n",
    "import time #for runtime comparison\n",
    "import os"
   ]
  },
  {
   "cell_type": "markdown",
   "metadata": {},
   "source": [
    "1. IMAGE FILES"
   ]
  },
  {
   "cell_type": "markdown",
   "metadata": {},
   "source": [
    "Compression"
   ]
  },
  {
   "cell_type": "code",
   "execution_count": 44,
   "metadata": {},
   "outputs": [],
   "source": [
    "#getting the start time\n",
    "com_st = time.time()\n",
    "\n",
    "with open('test_files/kirby.jpg', 'rb') as infile:\n",
    "    with open('zlib_test_files/kirby.zip', 'wb') as outfile:\n",
    "        outfile.write(zlib.compress(infile.read()))\n",
    "\n",
    "\n",
    "#getting the end time and elapsed time\n",
    "com_et = time.time()\n",
    "com_elapsed_time = com_et - com_st"
   ]
  },
  {
   "cell_type": "markdown",
   "metadata": {},
   "source": [
    "Decompression"
   ]
  },
  {
   "cell_type": "code",
   "execution_count": 45,
   "metadata": {},
   "outputs": [],
   "source": [
    "#getting the start time\n",
    "decom_st = time.time()\n",
    "\n",
    "with open('zlib_test_files/kirby.zip', 'rb') as infile:\n",
    "    with open('zlib_test_files/kirbyAfterzlib.jpg', 'wb') as outfile:\n",
    "        outfile.write(zlib.decompress(infile.read()))\n",
    "\n",
    "#getting the end time and elapsed time\n",
    "decom_et = time.time()\n",
    "decom_elapsed_time = decom_et - decom_st"
   ]
  },
  {
   "cell_type": "markdown",
   "metadata": {},
   "source": [
    "Comparisons:"
   ]
  },
  {
   "cell_type": "markdown",
   "metadata": {},
   "source": [
    "a. Runtime comparison "
   ]
  },
  {
   "cell_type": "code",
   "execution_count": 46,
   "metadata": {},
   "outputs": [
    {
     "name": "stdout",
     "output_type": "stream",
     "text": [
      "Compression execution time: 0.0089972019 seconds\n",
      "Decompression execution time: 0.0090007782 seconds\n"
     ]
    }
   ],
   "source": [
    "print('Compression execution time:', \"{:.10f}\".format(com_elapsed_time), 'seconds')\n",
    "print('Decompression execution time:', \"{:.10f}\".format(decom_elapsed_time), 'seconds')"
   ]
  },
  {
   "cell_type": "markdown",
   "metadata": {},
   "source": [
    "b. File size comparison:"
   ]
  },
  {
   "cell_type": "code",
   "execution_count": 47,
   "metadata": {},
   "outputs": [
    {
     "name": "stdout",
     "output_type": "stream",
     "text": [
      "Original file:\n",
      "File Size in Bytes is 322769\n",
      "File Size in MegaBytes is 0.3078165054321289\n",
      "\n",
      "Compressed file:\n",
      "file size in Bytes is 322501\n",
      "file size in MegaBytes is 0.30756092071533203\n",
      "\n",
      "Decompressed file:\n",
      "file size in Bytes is 322769\n",
      "file size in MegaBytes is 0.3078165054321289\n",
      "\n"
     ]
    }
   ],
   "source": [
    "#original\n",
    "file_stats = os.stat(\"test_files/kirby.jpg\")\n",
    "print(\"Original file:\")\n",
    "print(f'File Size in Bytes is {file_stats.st_size}')\n",
    "print(f'File Size in MegaBytes is {file_stats.st_size / (1024 * 1024)}\\n')\n",
    "\n",
    "#compressed\n",
    "file_stats = os.stat(\"zlib_test_files/kirby.zip\")\n",
    "print(\"Compressed file:\")\n",
    "print(f'file size in Bytes is {file_stats.st_size}')\n",
    "print(f'file size in MegaBytes is {file_stats.st_size / (1024 * 1024)}\\n')\n",
    "\n",
    "#decompressed\n",
    "file_stats = os.stat(\"zlib_test_files/kirbyAfterzlib.jpg\")\n",
    "print(\"Decompressed file:\")\n",
    "print(f'file size in Bytes is {file_stats.st_size}')\n",
    "print(f'file size in MegaBytes is {file_stats.st_size / (1024 * 1024)}\\n')"
   ]
  },
  {
   "cell_type": "markdown",
   "metadata": {},
   "source": [
    "2. TEXT FILES"
   ]
  },
  {
   "cell_type": "markdown",
   "metadata": {},
   "source": [
    "Compression"
   ]
  },
  {
   "cell_type": "code",
   "execution_count": 48,
   "metadata": {},
   "outputs": [],
   "source": [
    "#getting the start time\n",
    "com_st = time.time()\n",
    "\n",
    "with open('test_files/theraven.txt', 'rb') as infile:\n",
    "    with open('zlib_test_files/theraven.zip', 'wb') as outfile:\n",
    "        outfile.write(zlib.compress(infile.read()))\n",
    "\n",
    "#getting the end time and elapsed time\n",
    "com_et = time.time()\n",
    "com_elapsed_time = com_et - com_st"
   ]
  },
  {
   "cell_type": "markdown",
   "metadata": {},
   "source": [
    "Decompression"
   ]
  },
  {
   "cell_type": "code",
   "execution_count": 49,
   "metadata": {},
   "outputs": [],
   "source": [
    "#getting the start time\n",
    "decom_st = time.time()\n",
    "\n",
    "with open('zlib_test_files/theraven.zip', 'rb') as infile:\n",
    "    with open('zlib_test_files/theravenAfterzlib.txt', 'wb') as outfile:\n",
    "        outfile.write(zlib.decompress(infile.read()))\n",
    "\n",
    "#getting the end time and elapsed time\n",
    "decom_et = time.time()\n",
    "decom_elapsed_time = decom_et - decom_st"
   ]
  },
  {
   "cell_type": "markdown",
   "metadata": {},
   "source": [
    "Comparisons:"
   ]
  },
  {
   "cell_type": "markdown",
   "metadata": {},
   "source": [
    "a. Runtime comparison"
   ]
  },
  {
   "cell_type": "code",
   "execution_count": 50,
   "metadata": {},
   "outputs": [
    {
     "name": "stdout",
     "output_type": "stream",
     "text": [
      "Compression execution time: 0.0040006638 seconds\n",
      "Decompression execution time: 0.0039999485 seconds\n"
     ]
    }
   ],
   "source": [
    "print('Compression execution time:', \"{:.10f}\".format(com_elapsed_time), 'seconds')\n",
    "print('Decompression execution time:', \"{:.10f}\".format(decom_elapsed_time), 'seconds')"
   ]
  },
  {
   "cell_type": "markdown",
   "metadata": {},
   "source": [
    "b. File size comparison:"
   ]
  },
  {
   "cell_type": "code",
   "execution_count": 51,
   "metadata": {},
   "outputs": [
    {
     "name": "stdout",
     "output_type": "stream",
     "text": [
      "Original file:\n",
      "File Size in Bytes is 66394\n",
      "File Size in MegaBytes is 0.06331825256347656\n",
      "\n",
      "Compressed file:\n",
      "file size in Bytes is 25374\n",
      "file size in MegaBytes is 0.024198532104492188\n",
      "\n",
      "Decompressed file:\n",
      "file size in Bytes is 66394\n",
      "file size in MegaBytes is 0.06331825256347656\n",
      "\n"
     ]
    }
   ],
   "source": [
    "#file size comparison\n",
    "#original\n",
    "file_stats = os.stat(\"test_files/theraven.txt\")\n",
    "print(\"Original file:\")\n",
    "print(f'File Size in Bytes is {file_stats.st_size}')\n",
    "print(f'File Size in MegaBytes is {file_stats.st_size / (1024 * 1024)}\\n')\n",
    "\n",
    "#compressed\n",
    "file_stats = os.stat(\"zlib_test_files/theraven.zip\")\n",
    "print(\"Compressed file:\")\n",
    "print(f'file size in Bytes is {file_stats.st_size}')\n",
    "print(f'file size in MegaBytes is {file_stats.st_size / (1024 * 1024)}\\n')\n",
    "\n",
    "#decompressed\n",
    "file_stats = os.stat(\"zlib_test_files/theravenAfterzlib.txt\")\n",
    "print(\"Decompressed file:\")\n",
    "print(f'file size in Bytes is {file_stats.st_size}')\n",
    "print(f'file size in MegaBytes is {file_stats.st_size / (1024 * 1024)}\\n')"
   ]
  },
  {
   "cell_type": "markdown",
   "metadata": {},
   "source": [
    "3. CSV FILES"
   ]
  },
  {
   "cell_type": "markdown",
   "metadata": {},
   "source": [
    "Compression"
   ]
  },
  {
   "cell_type": "code",
   "execution_count": 52,
   "metadata": {},
   "outputs": [],
   "source": [
    "#getting the start time\n",
    "com_st = time.time()\n",
    "\n",
    "with open('test_files/imdb_movies.csv', 'rb') as infile:\n",
    "    with open('zlib_test_files/imdb_movies.zip', 'wb') as outfile:\n",
    "        outfile.write(zlib.compress(infile.read()))\n",
    "\n",
    "#getting the end time and elapsed time\n",
    "com_et = time.time()\n",
    "com_elapsed_time = com_et - com_st"
   ]
  },
  {
   "cell_type": "markdown",
   "metadata": {},
   "source": [
    "Decompression"
   ]
  },
  {
   "cell_type": "code",
   "execution_count": 53,
   "metadata": {},
   "outputs": [],
   "source": [
    "#getting the start time\n",
    "decom_st = time.time()\n",
    "\n",
    "with open('zlib_test_files/imdb_movies.zip', 'rb') as infile:\n",
    "    with open('zlib_test_files/imdb_moviesAfterzlib.csv', 'wb') as outfile:\n",
    "        outfile.write(zlib.decompress(infile.read()))\n",
    "\n",
    "#getting the end time and elapsed time\n",
    "decom_et = time.time()\n",
    "decom_elapsed_time = decom_et - decom_st"
   ]
  },
  {
   "cell_type": "markdown",
   "metadata": {},
   "source": [
    "Comparisons:"
   ]
  },
  {
   "cell_type": "markdown",
   "metadata": {},
   "source": [
    "a. Runtime comparison"
   ]
  },
  {
   "cell_type": "code",
   "execution_count": 54,
   "metadata": {},
   "outputs": [
    {
     "name": "stdout",
     "output_type": "stream",
     "text": [
      "Compression execution time: 0.1060359478 seconds\n",
      "Decompression execution time: 0.0140061378 seconds\n"
     ]
    }
   ],
   "source": [
    "print('Compression execution time:', \"{:.10f}\".format(com_elapsed_time), 'seconds')\n",
    "print('Decompression execution time:', \"{:.10f}\".format(decom_elapsed_time), 'seconds')"
   ]
  },
  {
   "cell_type": "markdown",
   "metadata": {},
   "source": [
    "b. File size comparison"
   ]
  },
  {
   "cell_type": "code",
   "execution_count": 55,
   "metadata": {},
   "outputs": [
    {
     "name": "stdout",
     "output_type": "stream",
     "text": [
      "Original file:\n",
      "File Size in Bytes is 2173906\n",
      "File Size in MegaBytes is 2.0731983184814453\n",
      "\n",
      "Compressed file:\n",
      "file size in Bytes is 894047\n",
      "file size in MegaBytes is 0.8526296615600586\n",
      "\n",
      "Decompressed file:\n",
      "file size in Bytes is 2173906\n",
      "file size in MegaBytes is 2.0731983184814453\n",
      "\n"
     ]
    }
   ],
   "source": [
    "#original\n",
    "file_stats = os.stat(\"test_files/imdb_movies.csv\")\n",
    "print(\"Original file:\")\n",
    "print(f'File Size in Bytes is {file_stats.st_size}')\n",
    "print(f'File Size in MegaBytes is {file_stats.st_size / (1024 * 1024)}\\n')\n",
    "\n",
    "#compressed\n",
    "file_stats = os.stat(\"zlib_test_files/imdb_movies.zip\")\n",
    "print(\"Compressed file:\")\n",
    "print(f'file size in Bytes is {file_stats.st_size}')\n",
    "print(f'file size in MegaBytes is {file_stats.st_size / (1024 * 1024)}\\n')\n",
    "\n",
    "#decompressed\n",
    "file_stats = os.stat(\"zlib_test_files/imdb_moviesAfterzlib.csv\")\n",
    "print(\"Decompressed file:\")\n",
    "print(f'file size in Bytes is {file_stats.st_size}')\n",
    "print(f'file size in MegaBytes is {file_stats.st_size / (1024 * 1024)}\\n')"
   ]
  },
  {
   "cell_type": "markdown",
   "metadata": {},
   "source": [
    "4. PDF FILES"
   ]
  },
  {
   "cell_type": "markdown",
   "metadata": {},
   "source": [
    "Compression"
   ]
  },
  {
   "cell_type": "code",
   "execution_count": 56,
   "metadata": {},
   "outputs": [],
   "source": [
    "#getting the start time\n",
    "com_st = time.time()\n",
    "\n",
    "with open('test_files/covidindo.pdf', 'rb') as infile:\n",
    "    with open('zlib_test_files/covidindo.zip', 'wb') as outfile:\n",
    "        outfile.write(zlib.compress(infile.read()))\n",
    "\n",
    "#getting the end time and elapsed time\n",
    "com_et = time.time()\n",
    "com_elapsed_time = com_et - com_st"
   ]
  },
  {
   "cell_type": "markdown",
   "metadata": {},
   "source": [
    "Decompression"
   ]
  },
  {
   "cell_type": "code",
   "execution_count": 57,
   "metadata": {},
   "outputs": [],
   "source": [
    "#getting the start time\n",
    "decom_st = time.time()\n",
    "\n",
    "with open('zlib_test_files/covidindo.zip', 'rb') as infile:\n",
    "    with open('zlib_test_files/covidindoAfterzlib.pdf', \"wb\") as outfile:\n",
    "        outfile.write(zlib.decompress(infile.read()))\n",
    "\n",
    "#getting the end time and elapsed time\n",
    "decom_et = time.time()\n",
    "decom_elapsed_time = decom_et - decom_st"
   ]
  },
  {
   "cell_type": "markdown",
   "metadata": {},
   "source": [
    "Comparisons:"
   ]
  },
  {
   "cell_type": "markdown",
   "metadata": {},
   "source": [
    "a. Runtime comparison"
   ]
  },
  {
   "cell_type": "code",
   "execution_count": 58,
   "metadata": {},
   "outputs": [
    {
     "name": "stdout",
     "output_type": "stream",
     "text": [
      "Compression execution time: 0.0620028973 seconds\n",
      "Decompression execution time: 0.0150115490 seconds\n"
     ]
    }
   ],
   "source": [
    "print('Compression execution time:', \"{:.10f}\".format(com_elapsed_time), 'seconds')\n",
    "print('Decompression execution time:', \"{:.10f}\".format(decom_elapsed_time), 'seconds')"
   ]
  },
  {
   "cell_type": "markdown",
   "metadata": {},
   "source": [
    "b. File size comparison"
   ]
  },
  {
   "cell_type": "code",
   "execution_count": 59,
   "metadata": {},
   "outputs": [
    {
     "name": "stdout",
     "output_type": "stream",
     "text": [
      "Original file:\n",
      "File Size in Bytes is 2488029\n",
      "File Size in MegaBytes is 2.372769355773926\n",
      "\n",
      "Compressed file:\n",
      "file size in Bytes is 2252215\n",
      "file size in MegaBytes is 2.1478796005249023\n",
      "\n",
      "Decompressed file:\n",
      "file size in Bytes is 2488029\n",
      "file size in MegaBytes is 2.372769355773926\n",
      "\n"
     ]
    }
   ],
   "source": [
    "#original\n",
    "file_stats = os.stat(\"test_files/covidindo.pdf\")\n",
    "print(\"Original file:\")\n",
    "print(f'File Size in Bytes is {file_stats.st_size}')\n",
    "print(f'File Size in MegaBytes is {file_stats.st_size / (1024 * 1024)}\\n')\n",
    "\n",
    "#compressed\n",
    "file_stats = os.stat(\"zlib_test_files/covidindo.zip\")\n",
    "print(\"Compressed file:\")\n",
    "print(f'file size in Bytes is {file_stats.st_size}')\n",
    "print(f'file size in MegaBytes is {file_stats.st_size / (1024 * 1024)}\\n')\n",
    "\n",
    "#decompressed\n",
    "file_stats = os.stat(\"zlib_test_files/covidindoAfterzlib.pdf\")\n",
    "print(\"Decompressed file:\")\n",
    "print(f'file size in Bytes is {file_stats.st_size}')\n",
    "print(f'file size in MegaBytes is {file_stats.st_size / (1024 * 1024)}\\n')"
   ]
  },
  {
   "cell_type": "markdown",
   "metadata": {},
   "source": [
    "5. JSON FILES"
   ]
  },
  {
   "cell_type": "markdown",
   "metadata": {},
   "source": [
    "Compression"
   ]
  },
  {
   "cell_type": "code",
   "execution_count": 60,
   "metadata": {},
   "outputs": [],
   "source": [
    "#getting the start time\n",
    "com_st = time.time()\n",
    "\n",
    "with open('test_files/example_2.json', 'rb') as infile:\n",
    "    with open('zlib_test_files/example_2.zip', 'wb') as outfile:\n",
    "        outfile.write(zlib.compress(infile.read()))\n",
    "\n",
    "#getting the end time and elapsed time\n",
    "com_et = time.time()\n",
    "com_elapsed_time = com_et - com_st"
   ]
  },
  {
   "cell_type": "markdown",
   "metadata": {},
   "source": [
    "Decompression"
   ]
  },
  {
   "cell_type": "code",
   "execution_count": 61,
   "metadata": {},
   "outputs": [],
   "source": [
    "#getting the start time\n",
    "decom_st = time.time()\n",
    "\n",
    "with open('zlib_test_files/example_2.zip', 'rb') as infile:\n",
    "    with open('zlib_test_files/example_2Afterzlib.json', 'wb') as outfile:\n",
    "        outfile.write(zlib.decompress(infile.read()))\n",
    "\n",
    "#getting the end time and elapsed time\n",
    "decom_et = time.time()\n",
    "decom_elapsed_time = decom_et - decom_st"
   ]
  },
  {
   "cell_type": "markdown",
   "metadata": {},
   "source": [
    "Comparisons:"
   ]
  },
  {
   "cell_type": "markdown",
   "metadata": {},
   "source": [
    "a. Runtime comparison"
   ]
  },
  {
   "cell_type": "code",
   "execution_count": 62,
   "metadata": {},
   "outputs": [
    {
     "name": "stdout",
     "output_type": "stream",
     "text": [
      "Compression execution time: 0.0010008812 seconds\n",
      "Decompression execution time: 0.0010006428 seconds\n"
     ]
    }
   ],
   "source": [
    "print('Compression execution time:', \"{:.10f}\".format(com_elapsed_time), 'seconds')\n",
    "print('Decompression execution time:', \"{:.10f}\".format(decom_elapsed_time), 'seconds')"
   ]
  },
  {
   "cell_type": "markdown",
   "metadata": {},
   "source": [
    "b. File size comparison"
   ]
  },
  {
   "cell_type": "code",
   "execution_count": 63,
   "metadata": {},
   "outputs": [
    {
     "name": "stdout",
     "output_type": "stream",
     "text": [
      "Original file:\n",
      "File Size in Bytes is 947\n",
      "File Size in MegaBytes is 0.0009031295776367188\n",
      "\n",
      "Compressed file:\n",
      "file size in Bytes is 255\n",
      "file size in MegaBytes is 0.00024318695068359375\n",
      "\n",
      "Decompressed file:\n",
      "file size in Bytes is 947\n",
      "file size in MegaBytes is 0.0009031295776367188\n",
      "\n"
     ]
    }
   ],
   "source": [
    "#original\n",
    "file_stats = os.stat(\"test_files/example_2.json\")\n",
    "print(\"Original file:\")\n",
    "print(f'File Size in Bytes is {file_stats.st_size}')\n",
    "print(f'File Size in MegaBytes is {file_stats.st_size / (1024 * 1024)}\\n')\n",
    "\n",
    "#compressed\n",
    "file_stats = os.stat(\"zlib_test_files/example_2.zip\")\n",
    "print(\"Compressed file:\")\n",
    "print(f'file size in Bytes is {file_stats.st_size}')\n",
    "print(f'file size in MegaBytes is {file_stats.st_size / (1024 * 1024)}\\n')\n",
    "\n",
    "#decompressed\n",
    "file_stats = os.stat(\"zlib_test_files/example_2Afterzlib.json\")\n",
    "print(\"Decompressed file:\")\n",
    "print(f'file size in Bytes is {file_stats.st_size}')\n",
    "print(f'file size in MegaBytes is {file_stats.st_size / (1024 * 1024)}\\n')"
   ]
  }
 ],
 "metadata": {
  "kernelspec": {
   "display_name": "Python 3.10.2 64-bit",
   "language": "python",
   "name": "python3"
  },
  "language_info": {
   "codemirror_mode": {
    "name": "ipython",
    "version": 3
   },
   "file_extension": ".py",
   "mimetype": "text/x-python",
   "name": "python",
   "nbconvert_exporter": "python",
   "pygments_lexer": "ipython3",
   "version": "3.10.2"
  },
  "orig_nbformat": 4,
  "vscode": {
   "interpreter": {
    "hash": "b0ea0398bfc6d7f45abc68f44a548315348cf9ab79812a4dc9172071276c2fec"
   }
  }
 },
 "nbformat": 4,
 "nbformat_minor": 2
}
