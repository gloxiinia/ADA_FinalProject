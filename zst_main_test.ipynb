{
 "cells": [
  {
   "cell_type": "markdown",
   "metadata": {},
   "source": [
    "Testing the corpus for the Zstandard algorithm"
   ]
  },
  {
   "cell_type": "code",
   "execution_count": 1,
   "metadata": {},
   "outputs": [],
   "source": [
    "#importing the libraries used\n",
    "\n",
    "import zstandard as zst\n",
    "import time #for runtime comparison\n",
    "import os"
   ]
  },
  {
   "cell_type": "markdown",
   "metadata": {},
   "source": [
    "1. IMAGE FILES"
   ]
  },
  {
   "cell_type": "markdown",
   "metadata": {},
   "source": [
    "Compression"
   ]
  },
  {
   "cell_type": "code",
   "execution_count": 2,
   "metadata": {},
   "outputs": [],
   "source": [
    "#getting the start time\n",
    "com_st = time.time()\n",
    "\n",
    "with open('test_files/kirby.jpg', 'rb') as infile:\n",
    "    with open('zst_test_files/kirby.zst', 'wb') as outfile:\n",
    "        outfile.write(zst.compress(infile.read()))\n",
    "\n",
    "\n",
    "#getting the end time and elapsed time\n",
    "com_et = time.time()\n",
    "com_elapsed_time = com_et - com_st"
   ]
  },
  {
   "cell_type": "markdown",
   "metadata": {},
   "source": [
    "Decompression"
   ]
  },
  {
   "cell_type": "code",
   "execution_count": 3,
   "metadata": {},
   "outputs": [],
   "source": [
    "#getting the start time\n",
    "decom_st = time.time()\n",
    "\n",
    "with open('zst_test_files/kirby.zst', 'rb') as infile:\n",
    "    with open('zst_test_files/kirbyAfterzst.jpg', 'wb') as outfile:\n",
    "        outfile.write(zst.decompress(infile.read()))\n",
    "\n",
    "#getting the end time and elapsed time\n",
    "decom_et = time.time()\n",
    "decom_elapsed_time = decom_et - decom_st"
   ]
  },
  {
   "cell_type": "markdown",
   "metadata": {},
   "source": [
    "Comparisons:"
   ]
  },
  {
   "cell_type": "markdown",
   "metadata": {},
   "source": [
    "a. Runtime comparison "
   ]
  },
  {
   "cell_type": "code",
   "execution_count": 4,
   "metadata": {},
   "outputs": [
    {
     "name": "stdout",
     "output_type": "stream",
     "text": [
      "Compression execution time: 0.0010004043579101562 seconds\n",
      "Decompression execution time: 0.009003877639770508 seconds\n"
     ]
    }
   ],
   "source": [
    "print('Compression execution time:', com_elapsed_time, 'seconds')\n",
    "print('Decompression execution time:', decom_elapsed_time, 'seconds')"
   ]
  },
  {
   "cell_type": "markdown",
   "metadata": {},
   "source": [
    "b. File size comparison:"
   ]
  },
  {
   "cell_type": "code",
   "execution_count": 5,
   "metadata": {},
   "outputs": [
    {
     "name": "stdout",
     "output_type": "stream",
     "text": [
      "Original file:\n",
      "File Size in Bytes is 322769\n",
      "File Size in MegaBytes is 0.3078165054321289\n",
      "\n",
      "Compressed file:\n",
      "file size in Bytes is 322808\n",
      "file size in MegaBytes is 0.30785369873046875\n",
      "\n",
      "Decompressed file:\n",
      "file size in Bytes is 322769\n",
      "file size in MegaBytes is 0.3078165054321289\n",
      "\n"
     ]
    }
   ],
   "source": [
    "#original\n",
    "file_stats = os.stat(\"test_files/kirby.jpg\")\n",
    "print(\"Original file:\")\n",
    "print(f'File Size in Bytes is {file_stats.st_size}')\n",
    "print(f'File Size in MegaBytes is {file_stats.st_size / (1024 * 1024)}\\n')\n",
    "\n",
    "#compressed\n",
    "file_stats = os.stat(\"zst_test_files/kirby.zst\")\n",
    "print(\"Compressed file:\")\n",
    "print(f'file size in Bytes is {file_stats.st_size}')\n",
    "print(f'file size in MegaBytes is {file_stats.st_size / (1024 * 1024)}\\n')\n",
    "\n",
    "#decompressed\n",
    "file_stats = os.stat(\"zst_test_files/kirbyAfterzst.jpg\")\n",
    "print(\"Decompressed file:\")\n",
    "print(f'file size in Bytes is {file_stats.st_size}')\n",
    "print(f'file size in MegaBytes is {file_stats.st_size / (1024 * 1024)}\\n')"
   ]
  },
  {
   "cell_type": "markdown",
   "metadata": {},
   "source": [
    "2. TEXT FILES"
   ]
  },
  {
   "cell_type": "markdown",
   "metadata": {},
   "source": [
    "Compression"
   ]
  },
  {
   "cell_type": "code",
   "execution_count": 6,
   "metadata": {},
   "outputs": [],
   "source": [
    "#getting the start time\n",
    "com_st = time.time()\n",
    "\n",
    "with open('test_files/theraven.txt', 'rb') as infile:\n",
    "    with open('zst_test_files/theraven.zst', 'wb') as outfile:\n",
    "        outfile.write(zst.compress(infile.read()))\n",
    "\n",
    "#getting the end time and elapsed time\n",
    "com_et = time.time()\n",
    "com_elapsed_time = com_et - com_st"
   ]
  },
  {
   "cell_type": "markdown",
   "metadata": {},
   "source": [
    "Decompression"
   ]
  },
  {
   "cell_type": "code",
   "execution_count": 7,
   "metadata": {},
   "outputs": [],
   "source": [
    "#getting the start time\n",
    "decom_st = time.time()\n",
    "\n",
    "with open('zst_test_files/theraven.zst', 'rb') as infile:\n",
    "    with open('zst_test_files/theravenAfterzst.txt', 'wb') as outfile:\n",
    "        outfile.write(zst.decompress(infile.read()))\n",
    "\n",
    "#getting the end time and elapsed time\n",
    "decom_et = time.time()\n",
    "decom_elapsed_time = decom_et - decom_st"
   ]
  },
  {
   "cell_type": "markdown",
   "metadata": {},
   "source": [
    "Comparisons:"
   ]
  },
  {
   "cell_type": "markdown",
   "metadata": {},
   "source": [
    "a. Runtime comparison"
   ]
  },
  {
   "cell_type": "code",
   "execution_count": 8,
   "metadata": {},
   "outputs": [
    {
     "name": "stdout",
     "output_type": "stream",
     "text": [
      "Compression execution time: 0.0010061264038085938 seconds\n",
      "Decompression execution time: 0.005003452301025391 seconds\n"
     ]
    }
   ],
   "source": [
    "print('Compression execution time:', com_elapsed_time, 'seconds')\n",
    "print('Decompression execution time:', decom_elapsed_time, 'seconds')"
   ]
  },
  {
   "cell_type": "markdown",
   "metadata": {},
   "source": [
    "b. File size comparison:"
   ]
  },
  {
   "cell_type": "code",
   "execution_count": 9,
   "metadata": {},
   "outputs": [
    {
     "name": "stdout",
     "output_type": "stream",
     "text": [
      "Original file:\n",
      "File Size in Bytes is 66394\n",
      "File Size in MegaBytes is 0.06331825256347656\n",
      "\n",
      "Compressed file:\n",
      "file size in Bytes is 39702\n",
      "file size in MegaBytes is 0.03786277770996094\n",
      "\n",
      "Decompressed file:\n",
      "file size in Bytes is 66394\n",
      "file size in MegaBytes is 0.06331825256347656\n",
      "\n"
     ]
    }
   ],
   "source": [
    "#file size comparison\n",
    "#original\n",
    "file_stats = os.stat(\"test_files/theraven.txt\")\n",
    "print(\"Original file:\")\n",
    "print(f'File Size in Bytes is {file_stats.st_size}')\n",
    "print(f'File Size in MegaBytes is {file_stats.st_size / (1024 * 1024)}\\n')\n",
    "\n",
    "#compressed\n",
    "file_stats = os.stat(\"zst_test_files/theraven.zst\")\n",
    "print(\"Compressed file:\")\n",
    "print(f'file size in Bytes is {file_stats.st_size}')\n",
    "print(f'file size in MegaBytes is {file_stats.st_size / (1024 * 1024)}\\n')\n",
    "\n",
    "#decompressed\n",
    "file_stats = os.stat(\"zst_test_files/theravenAfterzst.txt\")\n",
    "print(\"Decompressed file:\")\n",
    "print(f'file size in Bytes is {file_stats.st_size}')\n",
    "print(f'file size in MegaBytes is {file_stats.st_size / (1024 * 1024)}\\n')"
   ]
  },
  {
   "cell_type": "markdown",
   "metadata": {},
   "source": [
    "3. CSV FILES"
   ]
  },
  {
   "cell_type": "markdown",
   "metadata": {},
   "source": [
    "Compression"
   ]
  },
  {
   "cell_type": "code",
   "execution_count": 10,
   "metadata": {},
   "outputs": [],
   "source": [
    "#getting the start time\n",
    "com_st = time.time()\n",
    "\n",
    "with open('test_files/imdb_movies.csv', 'rb') as infile:\n",
    "    with open('zst_test_files/imdb_movies.zst', 'wb') as outfile:\n",
    "        outfile.write(zst.compress(infile.read()))\n",
    "\n",
    "#getting the end time and elapsed time\n",
    "com_et = time.time()\n",
    "com_elapsed_time = com_et - com_st"
   ]
  },
  {
   "cell_type": "markdown",
   "metadata": {},
   "source": [
    "Decompression"
   ]
  },
  {
   "cell_type": "code",
   "execution_count": 11,
   "metadata": {},
   "outputs": [],
   "source": [
    "#getting the start time\n",
    "decom_st = time.time()\n",
    "\n",
    "with open('zst_test_files/imdb_movies.zst', 'rb') as infile:\n",
    "    with open('zst_test_files/imdb_moviesAfterzst.csv', 'wb') as outfile:\n",
    "        outfile.write(zst.decompress(infile.read()))\n",
    "\n",
    "#getting the end time and elapsed time\n",
    "decom_et = time.time()\n",
    "decom_elapsed_time = decom_et - decom_st"
   ]
  },
  {
   "cell_type": "markdown",
   "metadata": {},
   "source": [
    "Comparisons:"
   ]
  },
  {
   "cell_type": "markdown",
   "metadata": {},
   "source": [
    "a. Runtime comparison"
   ]
  },
  {
   "cell_type": "code",
   "execution_count": 12,
   "metadata": {},
   "outputs": [
    {
     "name": "stdout",
     "output_type": "stream",
     "text": [
      "Compression execution time: 0.007993698120117188 seconds\n",
      "Decompression execution time: 0.00800633430480957 seconds\n"
     ]
    }
   ],
   "source": [
    "print('Compression execution time:', com_elapsed_time, 'seconds')\n",
    "print('Decompression execution time:', decom_elapsed_time, 'seconds')"
   ]
  },
  {
   "cell_type": "markdown",
   "metadata": {},
   "source": [
    "b. File size comparison"
   ]
  },
  {
   "cell_type": "code",
   "execution_count": 13,
   "metadata": {},
   "outputs": [
    {
     "name": "stdout",
     "output_type": "stream",
     "text": [
      "Original file:\n",
      "File Size in Bytes is 2173906\n",
      "File Size in MegaBytes is 2.0731983184814453\n",
      "\n",
      "Compressed file:\n",
      "file size in Bytes is 1412515\n",
      "file size in MegaBytes is 1.3470792770385742\n",
      "\n",
      "Decompressed file:\n",
      "file size in Bytes is 2173906\n",
      "file size in MegaBytes is 2.0731983184814453\n",
      "\n"
     ]
    }
   ],
   "source": [
    "#original\n",
    "file_stats = os.stat(\"test_files/imdb_movies.csv\")\n",
    "print(\"Original file:\")\n",
    "print(f'File Size in Bytes is {file_stats.st_size}')\n",
    "print(f'File Size in MegaBytes is {file_stats.st_size / (1024 * 1024)}\\n')\n",
    "\n",
    "#compressed\n",
    "file_stats = os.stat(\"zst_test_files/imdb_movies.zst\")\n",
    "print(\"Compressed file:\")\n",
    "print(f'file size in Bytes is {file_stats.st_size}')\n",
    "print(f'file size in MegaBytes is {file_stats.st_size / (1024 * 1024)}\\n')\n",
    "\n",
    "#decompressed\n",
    "file_stats = os.stat(\"zst_test_files/imdb_moviesAfterzst.csv\")\n",
    "print(\"Decompressed file:\")\n",
    "print(f'file size in Bytes is {file_stats.st_size}')\n",
    "print(f'file size in MegaBytes is {file_stats.st_size / (1024 * 1024)}\\n')"
   ]
  },
  {
   "cell_type": "markdown",
   "metadata": {},
   "source": [
    "4. PDF FILES"
   ]
  },
  {
   "cell_type": "markdown",
   "metadata": {},
   "source": [
    "Compression"
   ]
  },
  {
   "cell_type": "code",
   "execution_count": 14,
   "metadata": {},
   "outputs": [],
   "source": [
    "#getting the start time\n",
    "com_st = time.time()\n",
    "\n",
    "with open('test_files/covidindo.pdf', 'rb') as infile:\n",
    "    with open('zst_test_files/covidindo.zst', 'wb') as outfile:\n",
    "        outfile.write(zst.compress(infile.read()))\n",
    "\n",
    "#getting the end time and elapsed time\n",
    "com_et = time.time()\n",
    "com_elapsed_time = com_et - com_st"
   ]
  },
  {
   "cell_type": "markdown",
   "metadata": {},
   "source": [
    "Decompression"
   ]
  },
  {
   "cell_type": "code",
   "execution_count": 15,
   "metadata": {},
   "outputs": [],
   "source": [
    "#getting the start time\n",
    "decom_st = time.time()\n",
    "\n",
    "with open('zst_test_files/covidindo.zst', 'rb') as infile:\n",
    "    with open('zst_test_files/covidindoAfterzst.pdf', \"wb\") as outfile:\n",
    "        outfile.write(zst.decompress(infile.read()))\n",
    "\n",
    "#getting the end time and elapsed time\n",
    "decom_et = time.time()\n",
    "decom_elapsed_time = decom_et - decom_st"
   ]
  },
  {
   "cell_type": "markdown",
   "metadata": {},
   "source": [
    "Comparisons:"
   ]
  },
  {
   "cell_type": "markdown",
   "metadata": {},
   "source": [
    "a. Runtime comparison"
   ]
  },
  {
   "cell_type": "code",
   "execution_count": 16,
   "metadata": {},
   "outputs": [
    {
     "name": "stdout",
     "output_type": "stream",
     "text": [
      "Compression execution time: 0.005001544952392578 seconds\n",
      "Decompression execution time: 0.010996580123901367 seconds\n"
     ]
    }
   ],
   "source": [
    "print('Compression execution time:', com_elapsed_time, 'seconds')\n",
    "print('Decompression execution time:', decom_elapsed_time, 'seconds')"
   ]
  },
  {
   "cell_type": "markdown",
   "metadata": {},
   "source": [
    "b. File size comparison"
   ]
  },
  {
   "cell_type": "code",
   "execution_count": 17,
   "metadata": {},
   "outputs": [
    {
     "name": "stdout",
     "output_type": "stream",
     "text": [
      "Original file:\n",
      "File Size in Bytes is 2488029\n",
      "File Size in MegaBytes is 2.372769355773926\n",
      "\n",
      "Compressed file:\n",
      "file size in Bytes is 2311118\n",
      "file size in MegaBytes is 2.2040538787841797\n",
      "\n",
      "Decompressed file:\n",
      "file size in Bytes is 2488029\n",
      "file size in MegaBytes is 2.372769355773926\n",
      "\n"
     ]
    }
   ],
   "source": [
    "#original\n",
    "file_stats = os.stat(\"test_files/covidindo.pdf\")\n",
    "print(\"Original file:\")\n",
    "print(f'File Size in Bytes is {file_stats.st_size}')\n",
    "print(f'File Size in MegaBytes is {file_stats.st_size / (1024 * 1024)}\\n')\n",
    "\n",
    "#compressed\n",
    "file_stats = os.stat(\"zst_test_files/covidindo.zst\")\n",
    "print(\"Compressed file:\")\n",
    "print(f'file size in Bytes is {file_stats.st_size}')\n",
    "print(f'file size in MegaBytes is {file_stats.st_size / (1024 * 1024)}\\n')\n",
    "\n",
    "#decompressed\n",
    "file_stats = os.stat(\"zst_test_files/covidindoAfterzst.pdf\")\n",
    "print(\"Decompressed file:\")\n",
    "print(f'file size in Bytes is {file_stats.st_size}')\n",
    "print(f'file size in MegaBytes is {file_stats.st_size / (1024 * 1024)}\\n')"
   ]
  },
  {
   "cell_type": "markdown",
   "metadata": {},
   "source": [
    "5. JSON FILES"
   ]
  },
  {
   "cell_type": "markdown",
   "metadata": {},
   "source": [
    "Compression"
   ]
  },
  {
   "cell_type": "code",
   "execution_count": 18,
   "metadata": {},
   "outputs": [],
   "source": [
    "#getting the start time\n",
    "com_st = time.time()\n",
    "\n",
    "with open('test_files/example_2.json', 'rb') as infile:\n",
    "    with open('zst_test_files/example_2.zst', 'wb') as outfile:\n",
    "        outfile.write(zst.compress(infile.read()))\n",
    "\n",
    "#getting the end time and elapsed time\n",
    "com_et = time.time()\n",
    "com_elapsed_time = com_et - com_st"
   ]
  },
  {
   "cell_type": "markdown",
   "metadata": {},
   "source": [
    "Decompression"
   ]
  },
  {
   "cell_type": "code",
   "execution_count": 21,
   "metadata": {},
   "outputs": [],
   "source": [
    "#getting the start time\n",
    "decom_st = time.time()\n",
    "\n",
    "with open('zst_test_files/example_2.zst', 'rb') as infile:\n",
    "    with open('zst_test_files/example_2Afterzst.json', 'wb') as outfile:\n",
    "        outfile.write(zst.decompress(infile.read()))\n",
    "\n",
    "#getting the end time and elapsed time\n",
    "decom_et = time.time()\n",
    "decom_elapsed_time = decom_et - decom_st"
   ]
  },
  {
   "cell_type": "markdown",
   "metadata": {},
   "source": [
    "Comparisons:"
   ]
  },
  {
   "cell_type": "markdown",
   "metadata": {},
   "source": [
    "a. Runtime comparison"
   ]
  },
  {
   "cell_type": "code",
   "execution_count": null,
   "metadata": {},
   "outputs": [
    {
     "name": "stdout",
     "output_type": "stream",
     "text": [
      "Compression execution time: 0.0010385513305664062 seconds\n",
      "Decompression execution time: 0.0009975433349609375 seconds\n"
     ]
    }
   ],
   "source": [
    "print('Compression execution time:', com_elapsed_time, 'seconds')\n",
    "print('Decompression execution time:', decom_elapsed_time, 'seconds')"
   ]
  },
  {
   "cell_type": "markdown",
   "metadata": {},
   "source": [
    "b. File size comparison"
   ]
  },
  {
   "cell_type": "code",
   "execution_count": null,
   "metadata": {},
   "outputs": [
    {
     "name": "stdout",
     "output_type": "stream",
     "text": [
      "Original file:\n",
      "File Size in Bytes is 947\n",
      "File Size in MegaBytes is 0.0009031295776367188\n",
      "\n",
      "Compressed file:\n",
      "file size in Bytes is 373\n",
      "file size in MegaBytes is 0.00035572052001953125\n",
      "\n",
      "Decompressed file:\n",
      "file size in Bytes is 947\n",
      "file size in MegaBytes is 0.0009031295776367188\n",
      "\n"
     ]
    }
   ],
   "source": [
    "#original\n",
    "file_stats = os.stat(\"test_files/example_2.json\")\n",
    "print(\"Original file:\")\n",
    "print(f'File Size in Bytes is {file_stats.st_size}')\n",
    "print(f'File Size in MegaBytes is {file_stats.st_size / (1024 * 1024)}\\n')\n",
    "\n",
    "#compressed\n",
    "file_stats = os.stat(\"zst_test_files/example_2.zst\")\n",
    "print(\"Compressed file:\")\n",
    "print(f'file size in Bytes is {file_stats.st_size}')\n",
    "print(f'file size in MegaBytes is {file_stats.st_size / (1024 * 1024)}\\n')\n",
    "\n",
    "#decompressed\n",
    "file_stats = os.stat(\"zst_test_files/example_2Afterzst.json\")\n",
    "print(\"Decompressed file:\")\n",
    "print(f'file size in Bytes is {file_stats.st_size}')\n",
    "print(f'file size in MegaBytes is {file_stats.st_size / (1024 * 1024)}\\n')"
   ]
  }
 ],
 "metadata": {
  "kernelspec": {
   "display_name": "Python 3.10.2 64-bit",
   "language": "python",
   "name": "python3"
  },
  "language_info": {
   "codemirror_mode": {
    "name": "ipython",
    "version": 3
   },
   "file_extension": ".py",
   "mimetype": "text/x-python",
   "name": "python",
   "nbconvert_exporter": "python",
   "pygments_lexer": "ipython3",
   "version": "3.10.2"
  },
  "orig_nbformat": 4,
  "vscode": {
   "interpreter": {
    "hash": "b0ea0398bfc6d7f45abc68f44a548315348cf9ab79812a4dc9172071276c2fec"
   }
  }
 },
 "nbformat": 4,
 "nbformat_minor": 2
}
