{
 "cells": [
  {
   "cell_type": "markdown",
   "metadata": {},
   "source": [
    "Testing the corpus for the zstandard algorithm"
   ]
  },
  {
   "cell_type": "code",
   "execution_count": 1,
   "metadata": {},
   "outputs": [],
   "source": [
    "#importing the libraries used\n",
    "\n",
    "import zstandard as zstd\n",
    "from matplotlib import image\n",
    "import time\n",
    "import sys\n",
    "import os"
   ]
  },
  {
   "cell_type": "markdown",
   "metadata": {},
   "source": [
    "1. IMAGE FILES"
   ]
  },
  {
   "cell_type": "code",
   "execution_count": 2,
   "metadata": {},
   "outputs": [],
   "source": [
    "#using matplotlib to get the image into binary\n",
    "\n",
    "img = image.imread(\"testFiles/kirby.jpg\")"
   ]
  },
  {
   "cell_type": "markdown",
   "metadata": {},
   "source": [
    "2. TEXT FILES"
   ]
  },
  {
   "cell_type": "markdown",
   "metadata": {},
   "source": [
    "Compression"
   ]
  },
  {
   "cell_type": "code",
   "execution_count": 3,
   "metadata": {},
   "outputs": [],
   "source": [
    "with open('testFiles/theraven.txt', 'rb') as infile:\n",
    "    with open('testFiles/theraven.zst', 'wb') as outfile:\n",
    "        outfile.write(zstd.compress(infile.read()))"
   ]
  },
  {
   "cell_type": "markdown",
   "metadata": {},
   "source": [
    "Decompression"
   ]
  },
  {
   "cell_type": "code",
   "execution_count": 4,
   "metadata": {},
   "outputs": [],
   "source": [
    "with open('testFiles/theraven.zst', 'rb') as infile:\n",
    "    with open('testFiles/theravenAfterzst.txt', 'wb') as outfile:\n",
    "        outfile.write(zstd.decompress(infile.read()))"
   ]
  },
  {
   "cell_type": "markdown",
   "metadata": {},
   "source": [
    "Comparisons:"
   ]
  },
  {
   "cell_type": "markdown",
   "metadata": {},
   "source": [
    "a. File size comparison:"
   ]
  },
  {
   "cell_type": "code",
   "execution_count": 5,
   "metadata": {},
   "outputs": [
    {
     "name": "stdout",
     "output_type": "stream",
     "text": [
      "Original file:\n",
      "File Size in Bytes is 66394\n",
      "File Size in MegaBytes is 0.06331825256347656\n",
      "\n",
      "Compressed file:\n",
      "file size in Bytes is 25493\n",
      "file size in MegaBytes is 0.02431201934814453\n",
      "\n",
      "Decompressed file:\n",
      "file size in Bytes is 66394\n",
      "file size in MegaBytes is 0.06331825256347656\n",
      "\n"
     ]
    }
   ],
   "source": [
    "#file size comparison\n",
    "#original\n",
    "file_stats = os.stat(\"testFiles/theraven.txt\")\n",
    "print(\"Original file:\")\n",
    "print(f'File Size in Bytes is {file_stats.st_size}')\n",
    "print(f'File Size in MegaBytes is {file_stats.st_size / (1024 * 1024)}\\n')\n",
    "\n",
    "#compressed\n",
    "file_stats = os.stat(\"testFiles/theraven.zst\")\n",
    "print(\"Compressed file:\")\n",
    "print(f'file size in Bytes is {file_stats.st_size}')\n",
    "print(f'file size in MegaBytes is {file_stats.st_size / (1024 * 1024)}\\n')\n",
    "\n",
    "#decompressed\n",
    "file_stats = os.stat(\"testFiles/theravenAfterzst.txt\")\n",
    "print(\"Decompressed file:\")\n",
    "print(f'file size in Bytes is {file_stats.st_size}')\n",
    "print(f'file size in MegaBytes is {file_stats.st_size / (1024 * 1024)}\\n')"
   ]
  },
  {
   "cell_type": "markdown",
   "metadata": {},
   "source": [
    "3. CSV FILES"
   ]
  },
  {
   "cell_type": "markdown",
   "metadata": {},
   "source": [
    "Compression"
   ]
  },
  {
   "cell_type": "code",
   "execution_count": 6,
   "metadata": {},
   "outputs": [],
   "source": [
    "with open('testFiles/imdb_movies.csv', 'rb') as infile:\n",
    "    with open('testFiles/imdb_movies.zst', 'wb') as outfile:\n",
    "        outfile.write(zstd.compress(infile.read()))"
   ]
  },
  {
   "cell_type": "markdown",
   "metadata": {},
   "source": [
    "Decompression"
   ]
  },
  {
   "cell_type": "code",
   "execution_count": 7,
   "metadata": {},
   "outputs": [],
   "source": [
    "with open('testFiles/imdb_movies.zst', 'rb') as infile:\n",
    "    with open('testFiles/imdb_moviesAfterzst.csv', 'wb') as outfile:\n",
    "        outfile.write(zstd.decompress(infile.read()))"
   ]
  },
  {
   "cell_type": "markdown",
   "metadata": {},
   "source": [
    "Comparisons:"
   ]
  },
  {
   "cell_type": "markdown",
   "metadata": {},
   "source": [
    "a. File size comparison"
   ]
  },
  {
   "cell_type": "code",
   "execution_count": 8,
   "metadata": {},
   "outputs": [
    {
     "name": "stdout",
     "output_type": "stream",
     "text": [
      "Original file:\n",
      "File Size in Bytes is 2173906\n",
      "File Size in MegaBytes is 2.0731983184814453\n",
      "\n",
      "Compressed file:\n",
      "file size in Bytes is 863314\n",
      "file size in MegaBytes is 0.8233203887939453\n",
      "\n",
      "Decompressed file:\n",
      "file size in Bytes is 2173906\n",
      "file size in MegaBytes is 2.0731983184814453\n",
      "\n"
     ]
    }
   ],
   "source": [
    "#original\n",
    "file_stats = os.stat(\"testFiles/imdb_movies.csv\")\n",
    "print(\"Original file:\")\n",
    "print(f'File Size in Bytes is {file_stats.st_size}')\n",
    "print(f'File Size in MegaBytes is {file_stats.st_size / (1024 * 1024)}\\n')\n",
    "\n",
    "#compressed\n",
    "file_stats = os.stat(\"testFiles/imdb_movies.zst\")\n",
    "print(\"Compressed file:\")\n",
    "print(f'file size in Bytes is {file_stats.st_size}')\n",
    "print(f'file size in MegaBytes is {file_stats.st_size / (1024 * 1024)}\\n')\n",
    "\n",
    "#decompressed\n",
    "file_stats = os.stat(\"testFiles/imdb_moviesAfterzst.csv\")\n",
    "print(\"Decompressed file:\")\n",
    "print(f'file size in Bytes is {file_stats.st_size}')\n",
    "print(f'file size in MegaBytes is {file_stats.st_size / (1024 * 1024)}\\n')"
   ]
  },
  {
   "cell_type": "markdown",
   "metadata": {},
   "source": [
    "4. PDF FILES"
   ]
  },
  {
   "cell_type": "markdown",
   "metadata": {},
   "source": [
    "Compression"
   ]
  },
  {
   "cell_type": "code",
   "execution_count": 9,
   "metadata": {},
   "outputs": [],
   "source": [
    "with open('testFiles/covidindo.pdf', 'rb') as infile:\n",
    "    with open('testFiles/covidindo.zst', 'wb') as outfile:\n",
    "        outfile.write(zstd.compress(infile.read()))"
   ]
  },
  {
   "cell_type": "markdown",
   "metadata": {},
   "source": [
    "Decompression"
   ]
  },
  {
   "cell_type": "code",
   "execution_count": 10,
   "metadata": {},
   "outputs": [],
   "source": [
    "with open('testFiles/covidindo.zst', 'rb') as infile:\n",
    "    with open('testFiles/covidindoAfterzst.pdf', \"wb\") as outfile:\n",
    "        outfile.write(zstd.decompress(infile.read()))"
   ]
  },
  {
   "cell_type": "markdown",
   "metadata": {},
   "source": [
    "Comparisons:"
   ]
  },
  {
   "cell_type": "markdown",
   "metadata": {},
   "source": [
    "a. File size comparison"
   ]
  },
  {
   "cell_type": "code",
   "execution_count": 11,
   "metadata": {},
   "outputs": [
    {
     "name": "stdout",
     "output_type": "stream",
     "text": [
      "Original file:\n",
      "File Size in Bytes is 2488029\n",
      "File Size in MegaBytes is 2.372769355773926\n",
      "\n",
      "Compressed file:\n",
      "file size in Bytes is 2282444\n",
      "file size in MegaBytes is 2.176708221435547\n",
      "\n",
      "Decompressed file:\n",
      "file size in Bytes is 2488029\n",
      "file size in MegaBytes is 2.372769355773926\n",
      "\n"
     ]
    }
   ],
   "source": [
    "#original\n",
    "file_stats = os.stat(\"testFiles/covidindo.pdf\")\n",
    "print(\"Original file:\")\n",
    "print(f'File Size in Bytes is {file_stats.st_size}')\n",
    "print(f'File Size in MegaBytes is {file_stats.st_size / (1024 * 1024)}\\n')\n",
    "\n",
    "#compressed\n",
    "file_stats = os.stat(\"testFiles/covidindo.zst\")\n",
    "print(\"Compressed file:\")\n",
    "print(f'file size in Bytes is {file_stats.st_size}')\n",
    "print(f'file size in MegaBytes is {file_stats.st_size / (1024 * 1024)}\\n')\n",
    "\n",
    "#decompressed\n",
    "file_stats = os.stat(\"testFiles/covidindoAfterzst.pdf\")\n",
    "print(\"Decompressed file:\")\n",
    "print(f'file size in Bytes is {file_stats.st_size}')\n",
    "print(f'file size in MegaBytes is {file_stats.st_size / (1024 * 1024)}\\n')"
   ]
  },
  {
   "cell_type": "markdown",
   "metadata": {},
   "source": [
    "5. JSON FILES"
   ]
  },
  {
   "cell_type": "markdown",
   "metadata": {},
   "source": [
    "Compression"
   ]
  },
  {
   "cell_type": "code",
   "execution_count": 12,
   "metadata": {},
   "outputs": [],
   "source": [
    "with open('testFiles/example_2.json', 'rb') as infile:\n",
    "    with open('testFiles/example_2.zst', 'wb') as outfile:\n",
    "        outfile.write(zstd.compress(infile.read()))"
   ]
  },
  {
   "cell_type": "markdown",
   "metadata": {},
   "source": [
    "Decompression"
   ]
  },
  {
   "cell_type": "code",
   "execution_count": 13,
   "metadata": {},
   "outputs": [],
   "source": [
    "with open('testFiles/example_2.zst', 'rb') as infile:\n",
    "    with open('testFiles/example_2Afterzst.json', \"wb\") as outfile:\n",
    "        outfile.write(zstd.decompress(infile.read()))"
   ]
  },
  {
   "cell_type": "markdown",
   "metadata": {},
   "source": [
    "Comparisons:"
   ]
  },
  {
   "cell_type": "markdown",
   "metadata": {},
   "source": [
    "a. File size comparison"
   ]
  },
  {
   "cell_type": "code",
   "execution_count": 15,
   "metadata": {},
   "outputs": [
    {
     "name": "stdout",
     "output_type": "stream",
     "text": [
      "Original file:\n",
      "File Size in Bytes is 947\n",
      "File Size in MegaBytes is 0.0009031295776367188\n",
      "\n",
      "Compressed file:\n",
      "file size in Bytes is 280\n",
      "file size in MegaBytes is 0.00026702880859375\n",
      "\n",
      "Decompressed file:\n",
      "file size in Bytes is 947\n",
      "file size in MegaBytes is 0.0009031295776367188\n",
      "\n"
     ]
    }
   ],
   "source": [
    "#original\n",
    "file_stats = os.stat(\"testFiles/example_2.json\")\n",
    "print(\"Original file:\")\n",
    "print(f'File Size in Bytes is {file_stats.st_size}')\n",
    "print(f'File Size in MegaBytes is {file_stats.st_size / (1024 * 1024)}\\n')\n",
    "\n",
    "#compressed\n",
    "file_stats = os.stat(\"testFiles/example_2.zst\")\n",
    "print(\"Compressed file:\")\n",
    "print(f'file size in Bytes is {file_stats.st_size}')\n",
    "print(f'file size in MegaBytes is {file_stats.st_size / (1024 * 1024)}\\n')\n",
    "\n",
    "#decompressed\n",
    "file_stats = os.stat(\"testFiles/example_2Afterzst.json\")\n",
    "print(\"Decompressed file:\")\n",
    "print(f'file size in Bytes is {file_stats.st_size}')\n",
    "print(f'file size in MegaBytes is {file_stats.st_size / (1024 * 1024)}\\n')"
   ]
  }
 ],
 "metadata": {
  "kernelspec": {
   "display_name": "Python 3.10.2 64-bit",
   "language": "python",
   "name": "python3"
  },
  "language_info": {
   "codemirror_mode": {
    "name": "ipython",
    "version": 3
   },
   "file_extension": ".py",
   "mimetype": "text/x-python",
   "name": "python",
   "nbconvert_exporter": "python",
   "pygments_lexer": "ipython3",
   "version": "3.10.2"
  },
  "orig_nbformat": 4,
  "vscode": {
   "interpreter": {
    "hash": "b0ea0398bfc6d7f45abc68f44a548315348cf9ab79812a4dc9172071276c2fec"
   }
  }
 },
 "nbformat": 4,
 "nbformat_minor": 2
}
